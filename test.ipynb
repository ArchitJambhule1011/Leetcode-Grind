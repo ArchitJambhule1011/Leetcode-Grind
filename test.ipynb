{
 "cells": [
  {
   "cell_type": "code",
   "execution_count": 16,
   "metadata": {},
   "outputs": [
    {
     "name": "stdout",
     "output_type": "stream",
     "text": [
      "True\n"
     ]
    }
   ],
   "source": [
    "def can_split_array(nums):\n",
    "    # Create sets to store distinct elements from nums1 and nums2\n",
    "    nums1_set = set()\n",
    "    nums2_set = set()\n",
    "\n",
    "    # Iterate through the array\n",
    "    for num in nums:\n",
    "        # If the element is already in nums1_set, it means it's not distinct\n",
    "        if num in nums1_set:\n",
    "            continue\n",
    "        # If the element is not in nums1_set, add it to nums1_set\n",
    "        nums1_set.add(num)\n",
    "        # Check if the length of nums1_set is equal to half the length of nums\n",
    "        if len(nums1_set) == len(nums) // 2:\n",
    "            # If nums1_set has reached half the length of nums, return True\n",
    "            return True\n",
    "\n",
    "    # If the loop completes without returning True, it means it's not possible to split the array\n",
    "    return False\n",
    "\n",
    "# Example usage:\n",
    "nums = [1,1,2,2,3,4]\n",
    "print(can_split_array(nums))  # Output: True\n"
   ]
  },
  {
   "cell_type": "code",
   "execution_count": null,
   "metadata": {},
   "outputs": [],
   "source": []
  }
 ],
 "metadata": {
  "kernelspec": {
   "display_name": "pytorch",
   "language": "python",
   "name": "python3"
  },
  "language_info": {
   "codemirror_mode": {
    "name": "ipython",
    "version": 3
   },
   "file_extension": ".py",
   "mimetype": "text/x-python",
   "name": "python",
   "nbconvert_exporter": "python",
   "pygments_lexer": "ipython3",
   "version": "3.10.9"
  }
 },
 "nbformat": 4,
 "nbformat_minor": 2
}
